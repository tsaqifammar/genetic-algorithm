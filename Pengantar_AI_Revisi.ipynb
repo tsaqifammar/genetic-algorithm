{
  "nbformat": 4,
  "nbformat_minor": 0,
  "metadata": {
    "colab": {
      "name": "Pengantar_AI_Revisi.ipynb",
      "provenance": [],
      "collapsed_sections": []
    },
    "kernelspec": {
      "display_name": "Python 3",
      "name": "python3"
    },
    "language_info": {
      "name": "python"
    }
  },
  "cells": [
    {
      "cell_type": "markdown",
      "metadata": {
        "id": "WCLTRVsK9c6B"
      },
      "source": [
        "## **Deskripsi Tugas**\n",
        "Lakukan analisis, desain, dan implementasi algoritma Genetic algorithm (GA) ke dalam suatu program komputer untuk menemukan **nilai maximum** dari fungsi: \n",
        "\n",
        "$$h(x,y) = (cos x^2 + sin y^2) + (x + y)$$\n",
        "\n",
        "dengan batasan $-1 \\leq x \\leq 2$ dan $-1 \\leq y \\leq 1$."
      ]
    },
    {
      "cell_type": "markdown",
      "metadata": {
        "id": "feLn6l6U8Uw5"
      },
      "source": [
        "## **Library yang Digunakan**\n",
        "\n",
        "1. `random`, untuk mengenerate populasi dan bilangan acak.\n",
        "2. `math`, untuk kalkulasi h(x,y) menggunakan fungsi sin dan cos.\n",
        "3. `heapq`, untuk memilih $n$ elemen terbaik dari suatu list."
      ]
    },
    {
      "cell_type": "code",
      "metadata": {
        "id": "8IWSbUFC8OQV"
      },
      "source": [
        "import random\n",
        "from math import sin, cos\n",
        "import heapq"
      ],
      "execution_count": 1,
      "outputs": []
    },
    {
      "cell_type": "markdown",
      "metadata": {
        "id": "8H0TcVfP93XA"
      },
      "source": [
        "## **Fungsi Bantuan**"
      ]
    },
    {
      "cell_type": "code",
      "metadata": {
        "id": "IOQiFcvh98CA"
      },
      "source": [
        "def revBit(bit):\n",
        "  return '0' if bit == '1' else '1'"
      ],
      "execution_count": 2,
      "outputs": []
    },
    {
      "cell_type": "markdown",
      "metadata": {
        "id": "x9TIUR-l-KY3"
      },
      "source": [
        "## **Solusi Tugas**"
      ]
    },
    {
      "cell_type": "markdown",
      "metadata": {
        "id": "GQN_C4gy_6mW"
      },
      "source": [
        "### Informasi Soal"
      ]
    },
    {
      "cell_type": "code",
      "metadata": {
        "id": "Mxg3vh3v__AO"
      },
      "source": [
        "def h(x, y):\n",
        "  return (cos(x**2) * sin(y**2)) + (x + y)\n",
        "\n",
        "batas_x = [-1, 2]\n",
        "batas_y = [-1, 1]"
      ],
      "execution_count": 3,
      "outputs": []
    },
    {
      "cell_type": "markdown",
      "metadata": {
        "id": "TQgtAv-1_j9u"
      },
      "source": [
        "### Desain Kromosom\n",
        "\n",
        "Disini kami representasikan sebagai biner dengan banyak bit x = 50 dan banyak bit y = 50."
      ]
    },
    {
      "cell_type": "code",
      "metadata": {
        "id": "kHlxhqhM_BbB"
      },
      "source": [
        "len_x = len_y = 50\n",
        "\n",
        "def generateRandomChromosome():\n",
        "  # Generate string biner acak dengan ukuran len_x + len_y\n",
        "  hasil = \"\"\n",
        "  for i in range(len_x + len_y):\n",
        "    hasil += str(random.randint(0, 1))\n",
        "  return hasil\n",
        "\n",
        "def decodeGenotipe(g, t):\n",
        "  # pakai rumus di slide\n",
        "  n = len_x if t == \"x\" else len_y\n",
        "  twos = sum([2**-i for i in range(1, n+1)])\n",
        "  jmlh = sum([int(g[i-1])*(2**-i) for i in range(1, n+1)])\n",
        "\n",
        "  if (t == \"x\"):\n",
        "    return batas_x[0] + (batas_x[1] - batas_x[0]) / twos * jmlh\n",
        "\n",
        "  return batas_y[0] + (batas_y[1] - batas_y[0]) / twos * jmlh\n",
        "\n",
        "def toFenotipe(c):\n",
        "  strX, strY = c[:len_x], c[len_y:]\n",
        "  return decodeGenotipe(strX, \"x\"), decodeGenotipe(strY, \"y\")\n",
        "\n",
        "def genRandomPopulation(pop_size):\n",
        "  popu = []\n",
        "  for i in range(pop_size):\n",
        "    popu.append(generateRandomChromosome())\n",
        "  return popu\n"
      ],
      "execution_count": 4,
      "outputs": []
    },
    {
      "cell_type": "markdown",
      "metadata": {
        "id": "bxSzfGVVA13p"
      },
      "source": [
        "### Pemilihan Orangtua\n",
        "\n",
        "Disini kami menggunakan mekanisme **roulette wheel** yang dibagi secara proporsional berdasarkan nilai fitness. Orangtua akan dipilih secara random dan yang memiliki proporsi tinggi akan semakin mungkin untuk terpilih."
      ]
    },
    {
      "cell_type": "code",
      "metadata": {
        "id": "jNPB-fxIBAhy"
      },
      "source": [
        "def roulette_wheel(prob_dist):\n",
        "  # prob_dist adalah list of probabilities yang jika dijumlahkan akan = 1.\n",
        "  # Fungsi ini mengembalikan idx orang tua yang terpilih.\n",
        "  panah_wheel = random.random()\n",
        "\n",
        "  sumSejauhIni = 0\n",
        "  idx = 0\n",
        "  for i in range(len(prob_dist)):\n",
        "    sumSejauhIni += prob_dist[i]\n",
        "    if sumSejauhIni >= panah_wheel:\n",
        "      break\n",
        "    idx += 1\n",
        "  return idx"
      ],
      "execution_count": 5,
      "outputs": []
    },
    {
      "cell_type": "markdown",
      "metadata": {
        "id": "xcnjSOeVB1sW"
      },
      "source": [
        "### Crossover\n",
        "Crossover dengan metode Uniform Crossover yang berkemungkinan $P_c$ akan terjadi."
      ]
    },
    {
      "cell_type": "code",
      "metadata": {
        "id": "ABHRB_UBDSI9"
      },
      "source": [
        "def crossover(c1, c2, p_c):\n",
        "  crossoverTerjadi = random.random()\n",
        "  if (crossoverTerjadi <= p_c):\n",
        "    hasil = \"\"\n",
        "    for bit1, bit2 in zip(c1, c2):\n",
        "      pilih_acak = random.random()\n",
        "      hasil += bit1 if (pilih_acak <= 0.5) else bit2\n",
        "    return hasil\n",
        "  return c1"
      ],
      "execution_count": 6,
      "outputs": []
    },
    {
      "cell_type": "markdown",
      "metadata": {
        "id": "Sj89MsIrB_Lk"
      },
      "source": [
        "### Mutasi\n",
        "\n",
        "Mutasi dengan kemungkinan $P_m$ akan terjadi untuk setiap bit kromosom."
      ]
    },
    {
      "cell_type": "code",
      "metadata": {
        "id": "I6BVSSRuDYlG"
      },
      "source": [
        "def mutation(c, p_m):\n",
        "  hasil = \"\"\n",
        "  for bit in c:\n",
        "    real_acak = random.random()\n",
        "    hasil += revBit(bit) if (real_acak <= p_m) else bit\n",
        "  return hasil"
      ],
      "execution_count": 7,
      "outputs": []
    },
    {
      "cell_type": "markdown",
      "metadata": {
        "id": "Jej1Y2bZChWy"
      },
      "source": [
        "### Pergantian Generasi\n",
        "\n",
        "Pergantian generasi dilakukan dengan cara mengambil $n$ individu terbaik dari gabungan orangtua dan anaknya."
      ]
    },
    {
      "cell_type": "code",
      "metadata": {
        "id": "Uwn1Q0-DCvzW"
      },
      "source": [
        "def replaceGeneration(parent, parent_fit, child, child_fit, pop_size):\n",
        "  parent = list(zip(parent, parent_fit))\n",
        "  child = list(zip(child, child_fit))\n",
        "\n",
        "  new_gen = heapq.nlargest(pop_size, parent + child, key=lambda x:x[1])\n",
        "  return [new_gen[i][0] for i in range(pop_size)]"
      ],
      "execution_count": 8,
      "outputs": []
    },
    {
      "cell_type": "markdown",
      "metadata": {
        "id": "lZh0RWP8DB2N"
      },
      "source": [
        "### Genetic Algorithm"
      ]
    },
    {
      "cell_type": "code",
      "metadata": {
        "id": "uVUfWOrrDFcO"
      },
      "source": [
        "def geneticAlgorithm(pop, pop_size, num_of_gen, p_c, p_m, fitness):\n",
        "  # parameter : first gen, ukuran populasi, berapa kali generasi, p_c, p_m, fungsi fitness\n",
        "\n",
        "  for i in range(num_of_gen):\n",
        "    pop_fit = [fitness(*toFenotipe(pop[i])) for i in range(pop_size)]\n",
        "    print(\"Fitness terbaik pada generasi ke-{0}\\t: {1}\".format(i+1, max(pop_fit)))\n",
        "    sum_fit = sum(pop_fit)\n",
        "    prob_dist = [pop_fit[i]/sum_fit for i in range(pop_size)]\n",
        "\n",
        "    new_pop = []\n",
        "    for j in range(pop_size):\n",
        "      # Pemilihan orangtua\n",
        "      parent_1 = pop[roulette_wheel(prob_dist)]\n",
        "      parent_2 = pop[roulette_wheel(prob_dist)]\n",
        "\n",
        "      # Crossover\n",
        "      co_result = crossover(parent_1, parent_2, p_c)\n",
        "\n",
        "      # Mutation\n",
        "      mu_result = mutation(co_result, p_m)\n",
        "\n",
        "      new_pop.append(mu_result)\n",
        "    new_pop_fit = [fitness(*toFenotipe(new_pop[i])) for i in range(pop_size)]\n",
        "\n",
        "    # Pergantian generasi\n",
        "    pop = replaceGeneration(pop, pop_fit, new_pop, new_pop_fit, pop_size)\n",
        "  \n",
        "  pop_fit = [fitness(*toFenotipe(pop[i])) for i in range(pop_size)]\n",
        "  return max(zip(pop, pop_fit), key=lambda x:x[1])\n",
        "\n",
        "  "
      ],
      "execution_count": 9,
      "outputs": []
    },
    {
      "cell_type": "markdown",
      "metadata": {
        "id": "BwKFxbxJ-c2G"
      },
      "source": [
        "## **Main Program**"
      ]
    },
    {
      "cell_type": "code",
      "metadata": {
        "colab": {
          "base_uri": "https://localhost:8080/"
        },
        "id": "4NOjBE-j-cbT",
        "outputId": "6d6bcaab-f628-4706-97ba-e000cdca0053"
      },
      "source": [
        "# Parameter GA\n",
        "N = 500\n",
        "num_of_gen = 100\n",
        "p_c = 0.9\n",
        "p_m = 1/(len_x + len_y)\n",
        "\n",
        "# Inisialisai populasi\n",
        "pop = genRandomPopulation(N)\n",
        "\n",
        "# Algoritma Genetika\n",
        "chromosomeHasil, fitHasil = geneticAlgorithm(pop, N, num_of_gen, p_c, p_m, h)\n",
        "\n",
        "# Tampilkan hasil\n",
        "print(\"\\n======== Hasil Terbaik ========\")\n",
        "print(\"Chromosome x\\t= \", chromosomeHasil[:len_x])\n",
        "print(\"Chromosome y\\t= \", chromosomeHasil[len_y:])\n",
        "print(\"(x , y)\\t\\t= ({0} , {1})\".format(*toFenotipe(chromosomeHasil)))\n",
        "print(\"Fitness\\t\\t= \", fitHasil)"
      ],
      "execution_count": 10,
      "outputs": [
        {
          "output_type": "stream",
          "text": [
            "Fitness terbaik pada generasi ke-1\t: 2.443213610483161\n",
            "Fitness terbaik pada generasi ke-2\t: 2.4706342888920365\n",
            "Fitness terbaik pada generasi ke-3\t: 2.4706342888920365\n",
            "Fitness terbaik pada generasi ke-4\t: 2.4706342888920365\n",
            "Fitness terbaik pada generasi ke-5\t: 2.4787721776398324\n",
            "Fitness terbaik pada generasi ke-6\t: 2.4787721776398324\n",
            "Fitness terbaik pada generasi ke-7\t: 2.4787721776398324\n",
            "Fitness terbaik pada generasi ke-8\t: 2.4787721776398324\n",
            "Fitness terbaik pada generasi ke-9\t: 2.4794000115540156\n",
            "Fitness terbaik pada generasi ke-10\t: 2.4806744843100215\n",
            "Fitness terbaik pada generasi ke-11\t: 2.4807952371430644\n",
            "Fitness terbaik pada generasi ke-12\t: 2.4812305600507556\n",
            "Fitness terbaik pada generasi ke-13\t: 2.4813713989200226\n",
            "Fitness terbaik pada generasi ke-14\t: 2.4815076933188425\n",
            "Fitness terbaik pada generasi ke-15\t: 2.4815707491424424\n",
            "Fitness terbaik pada generasi ke-16\t: 2.4815707491424424\n",
            "Fitness terbaik pada generasi ke-17\t: 2.481587121976278\n",
            "Fitness terbaik pada generasi ke-18\t: 2.48162282377518\n",
            "Fitness terbaik pada generasi ke-19\t: 2.481648489534696\n",
            "Fitness terbaik pada generasi ke-20\t: 2.481648489534696\n",
            "Fitness terbaik pada generasi ke-21\t: 2.481648489534696\n",
            "Fitness terbaik pada generasi ke-22\t: 2.481652796050084\n",
            "Fitness terbaik pada generasi ke-23\t: 2.481652796050084\n",
            "Fitness terbaik pada generasi ke-24\t: 2.481652796050084\n",
            "Fitness terbaik pada generasi ke-25\t: 2.481653676294585\n",
            "Fitness terbaik pada generasi ke-26\t: 2.481653676294585\n",
            "Fitness terbaik pada generasi ke-27\t: 2.4816550472056638\n",
            "Fitness terbaik pada generasi ke-28\t: 2.4816571948438795\n",
            "Fitness terbaik pada generasi ke-29\t: 2.4816573020475285\n",
            "Fitness terbaik pada generasi ke-30\t: 2.4816573020475285\n",
            "Fitness terbaik pada generasi ke-31\t: 2.4816577399943474\n",
            "Fitness terbaik pada generasi ke-32\t: 2.4816577399943474\n",
            "Fitness terbaik pada generasi ke-33\t: 2.4816577399943474\n",
            "Fitness terbaik pada generasi ke-34\t: 2.481657919830115\n",
            "Fitness terbaik pada generasi ke-35\t: 2.481657919830115\n",
            "Fitness terbaik pada generasi ke-36\t: 2.481657919830115\n",
            "Fitness terbaik pada generasi ke-37\t: 2.481657919830115\n",
            "Fitness terbaik pada generasi ke-38\t: 2.481657938378108\n",
            "Fitness terbaik pada generasi ke-39\t: 2.481657938378108\n",
            "Fitness terbaik pada generasi ke-40\t: 2.481657946860132\n",
            "Fitness terbaik pada generasi ke-41\t: 2.4816579603858915\n",
            "Fitness terbaik pada generasi ke-42\t: 2.4816579603858915\n",
            "Fitness terbaik pada generasi ke-43\t: 2.4816579607938327\n",
            "Fitness terbaik pada generasi ke-44\t: 2.481657977596649\n",
            "Fitness terbaik pada generasi ke-45\t: 2.4816579806109837\n",
            "Fitness terbaik pada generasi ke-46\t: 2.481657983066691\n",
            "Fitness terbaik pada generasi ke-47\t: 2.481657983220416\n",
            "Fitness terbaik pada generasi ke-48\t: 2.4816579835055244\n",
            "Fitness terbaik pada generasi ke-49\t: 2.4816579835803974\n",
            "Fitness terbaik pada generasi ke-50\t: 2.48165798484408\n",
            "Fitness terbaik pada generasi ke-51\t: 2.4816579849629745\n",
            "Fitness terbaik pada generasi ke-52\t: 2.4816579850976463\n",
            "Fitness terbaik pada generasi ke-53\t: 2.481657985220222\n",
            "Fitness terbaik pada generasi ke-54\t: 2.4816579852828706\n",
            "Fitness terbaik pada generasi ke-55\t: 2.4816579852828706\n",
            "Fitness terbaik pada generasi ke-56\t: 2.4816579853386367\n",
            "Fitness terbaik pada generasi ke-57\t: 2.4816579853386367\n",
            "Fitness terbaik pada generasi ke-58\t: 2.481657985538328\n",
            "Fitness terbaik pada generasi ke-59\t: 2.481657985538328\n",
            "Fitness terbaik pada generasi ke-60\t: 2.481657985538328\n",
            "Fitness terbaik pada generasi ke-61\t: 2.481657985538328\n",
            "Fitness terbaik pada generasi ke-62\t: 2.481657985538328\n",
            "Fitness terbaik pada generasi ke-63\t: 2.481657985552662\n",
            "Fitness terbaik pada generasi ke-64\t: 2.481657985552662\n",
            "Fitness terbaik pada generasi ke-65\t: 2.481657985566647\n",
            "Fitness terbaik pada generasi ke-66\t: 2.4816579855747665\n",
            "Fitness terbaik pada generasi ke-67\t: 2.4816579855747665\n",
            "Fitness terbaik pada generasi ke-68\t: 2.4816579855747665\n",
            "Fitness terbaik pada generasi ke-69\t: 2.4816579855747665\n",
            "Fitness terbaik pada generasi ke-70\t: 2.4816579855770797\n",
            "Fitness terbaik pada generasi ke-71\t: 2.4816579855770797\n",
            "Fitness terbaik pada generasi ke-72\t: 2.4816579855770797\n",
            "Fitness terbaik pada generasi ke-73\t: 2.4816579855770797\n",
            "Fitness terbaik pada generasi ke-74\t: 2.4816579855778094\n",
            "Fitness terbaik pada generasi ke-75\t: 2.4816579855781473\n",
            "Fitness terbaik pada generasi ke-76\t: 2.481657985579427\n",
            "Fitness terbaik pada generasi ke-77\t: 2.481657985579427\n",
            "Fitness terbaik pada generasi ke-78\t: 2.481657985580674\n",
            "Fitness terbaik pada generasi ke-79\t: 2.481657985580674\n",
            "Fitness terbaik pada generasi ke-80\t: 2.4816579855807337\n",
            "Fitness terbaik pada generasi ke-81\t: 2.4816579855807337\n",
            "Fitness terbaik pada generasi ke-82\t: 2.4816579855807337\n",
            "Fitness terbaik pada generasi ke-83\t: 2.481657985580964\n",
            "Fitness terbaik pada generasi ke-84\t: 2.481657985580964\n",
            "Fitness terbaik pada generasi ke-85\t: 2.481657985580964\n",
            "Fitness terbaik pada generasi ke-86\t: 2.481657985580964\n",
            "Fitness terbaik pada generasi ke-87\t: 2.481657985580964\n",
            "Fitness terbaik pada generasi ke-88\t: 2.4816579855809704\n",
            "Fitness terbaik pada generasi ke-89\t: 2.4816579855809704\n",
            "Fitness terbaik pada generasi ke-90\t: 2.4816579855809704\n",
            "Fitness terbaik pada generasi ke-91\t: 2.4816579855809704\n",
            "Fitness terbaik pada generasi ke-92\t: 2.4816579855809704\n",
            "Fitness terbaik pada generasi ke-93\t: 2.481657985581012\n",
            "Fitness terbaik pada generasi ke-94\t: 2.481657985581012\n",
            "Fitness terbaik pada generasi ke-95\t: 2.481657985581012\n",
            "Fitness terbaik pada generasi ke-96\t: 2.481657985581012\n",
            "Fitness terbaik pada generasi ke-97\t: 2.481657985581012\n",
            "Fitness terbaik pada generasi ke-98\t: 2.481657985581012\n",
            "Fitness terbaik pada generasi ke-99\t: 2.481657985581012\n",
            "Fitness terbaik pada generasi ke-100\t: 2.481657985581012\n",
            "\n",
            "======== Hasil Terbaik ========\n",
            "Chromosome x\t=  10100000000000000000000000000000000000000000000011\n",
            "Chromosome y\t=  11111111111111111111111111111111111111111111111111\n",
            "(x , y)\t\t= (0.8750000000000098 , 1.0)\n",
            "Fitness\t\t=  2.4816579855810184\n"
          ],
          "name": "stdout"
        }
      ]
    }
  ]
}